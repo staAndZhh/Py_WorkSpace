{
 "cells": [
  {
   "cell_type": "code",
   "execution_count": 1,
   "metadata": {},
   "outputs": [],
   "source": [
    "import pandas as pd\n",
    "import numpy as np\n",
    "from pyecharts import Bar"
   ]
  },
  {
   "cell_type": "code",
   "execution_count": 15,
   "metadata": {},
   "outputs": [],
   "source": [
    "bar = Bar('first bar','subTitle')\n",
    "bar.add('clothes',[\"A\",\"B\",\"C\",\"D\",\"E\"],[4,10,20,30,50])\n",
    "bar.render()"
   ]
  },
  {
   "cell_type": "code",
   "execution_count": 12,
   "metadata": {},
   "outputs": [],
   "source": [
    "tem_da = pd.DataFrame({'name':['A','B','C','D','E'],\"numbers\":[4,10,20,30,50]})"
   ]
  },
  {
   "cell_type": "code",
   "execution_count": 51,
   "metadata": {},
   "outputs": [
    {
     "data": {
      "text/plain": [
       "[1, 2, 3, 4, 5, 7]"
      ]
     },
     "execution_count": 51,
     "metadata": {},
     "output_type": "execute_result"
    }
   ],
   "source": [
    "import pandas as pd\n",
    "import numpy as np\n",
    "\n",
    "from pyecharts import Bar\n",
    "\n",
    "index = pd.date_range('3/8/2017', periods=6, freq='M')\n",
    "df1 = pd.DataFrame([1,2,3,4,5,6], index=index)\n",
    "df2 = pd.DataFrame([1,2,3,4,5,7], index=index)\n",
    "\n",
    "dtvalue1= df2[:,1].tolist()\n",
    "dtvalue2 = df2[0].tolist()\n",
    "\n",
    "bar = Bar('Bar chart', 'Profit and loss situation')\n",
    "bar.add('profit', df1.index, dtvalue1)\n",
    "bar.add('loss', df2.index,  dtvalue2)\n",
    "\n"
   ]
  }
 ],
 "metadata": {
  "kernelspec": {
   "display_name": "Python 3",
   "language": "python",
   "name": "python3"
  },
  "language_info": {
   "codemirror_mode": {
    "name": "ipython",
    "version": 3
   },
   "file_extension": ".py",
   "mimetype": "text/x-python",
   "name": "python",
   "nbconvert_exporter": "python",
   "pygments_lexer": "ipython3",
   "version": "3.6.1"
  }
 },
 "nbformat": 4,
 "nbformat_minor": 2
}
